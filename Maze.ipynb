{
 "cells": [
  {
   "cell_type": "markdown",
   "id": "f59252a7",
   "metadata": {},
   "source": [
    "# Maze"
   ]
  },
  {
   "cell_type": "code",
   "execution_count": 1,
   "id": "890d03f9",
   "metadata": {},
   "outputs": [],
   "source": [
    "import numpy as np\n",
    "rg = np.random.default_rng(1)\n",
    "\n",
    "import matplotlib.pyplot as plt\n",
    "%matplotlib inline\n",
    "import random"
   ]
  },
  {
   "cell_type": "code",
   "execution_count": 2,
   "id": "4ca1059b",
   "metadata": {
    "scrolled": true
   },
   "outputs": [
    {
     "name": "stdout",
     "output_type": "stream",
     "text": [
      "[(4, 4), (5, 3)]\n"
     ]
    },
    {
     "data": {
      "image/png": "[encoded data removed]",
      "text/plain": [
       "<Figure size 640x480 with 1 Axes>"
      ]
     },
     "metadata": {},
     "output_type": "display_data"
    }
   ],
   "source": [
    "def maze_to_pixel(x, y):\n",
    "    \"\"\"Converts a maze coordinate to an image pixel location.\"\"\"\n",
    "    return (y * 2 + 1, x * 2 + 1)\n",
    "\n",
    "\n",
    "class Maze():\n",
    "    \n",
    "    def __init__(self, width, height):\n",
    "        self.width = width\n",
    "        self.height = height\n",
    "        self.pixels = np.zeros(maze_to_pixel(width, height))\n",
    "    \n",
    "    def clear(self, x, y):\n",
    "        \"\"\"Clears the cell at the given x, y position.\"\"\"\n",
    "        self.pixels[maze_to_pixel(x, y)] = 1\n",
    "        \n",
    "    def carve(self, start, end):\n",
    "        \"\"\"Carves a path from the given start cell to the end cell.\"\"\"\n",
    "        sx, sy = maze_to_pixel(*start)\n",
    "        ex, ey = maze_to_pixel(*end)\n",
    "        \n",
    "        if sx > ex:\n",
    "            sx, ex = ex, sx\n",
    "            \n",
    "        if sy > ey:\n",
    "            sy, ey = ey, sy\n",
    "        \n",
    "        for x in range(sx, ex + 1):\n",
    "            for y in range(sy, ey + 1):\n",
    "                self.pixels[(x, y)] = 1\n",
    "    \n",
    "    def calc_neighbors(self, x, y):\n",
    "        \"\"\"Returns all valid neighbors of (x, y)\"\"\"\n",
    "        possible_neighbors = [(x - 1, y), (x + 1, y), (x, y + 1), (x, y - 1)]\n",
    "        return [(x, y) for x, y in possible_neighbors if x >= 0 and y >= 0 and x < self.width and y < self.height]\n",
    "    \n",
    "    def _ipython_display_(self):\n",
    "        plt.imshow(self.pixels, cmap = 'gray')\n",
    "\n",
    "maze = Maze(6, 5)\n",
    "print(maze.calc_neighbors(5, 4))\n",
    "#for y in range (maze.height):\n",
    "#    for x in range (maze.width):\n",
    "#        maze.clear(x, y)\n",
    "        \n",
    "maze.carve((4, 3), (1, 3))\n",
    "maze"
   ]
  },
  {
   "cell_type": "code",
   "execution_count": 17,
   "id": "18312f4a",
   "metadata": {},
   "outputs": [
    {
     "data": {
      "image/png": "[encoded data removed]",
      "text/plain": [
       "<Figure size 640x480 with 1 Axes>"
      ]
     },
     "metadata": {},
     "output_type": "display_data"
    }
   ],
   "source": [
    "def aldous_broder(maze):\n",
    "    start = (0, 0)\n",
    "    visited = {start}\n",
    "    current = start\n",
    "    while len(visited) < maze.width * maze.height:\n",
    "        neighbors = maze.calc_neighbors(*current)\n",
    "        chosen_neighbor = random.choice(neighbors)\n",
    "        if chosen_neighbor not in visited:\n",
    "            maze.carve(current, chosen_neighbor)\n",
    "            visited.add(chosen_neighbor)\n",
    "        current = chosen_neighbor\n",
    "\n",
    "maze = Maze(20, 20)\n",
    "aldous_broder(maze)\n",
    "maze"
   ]
  }
 ],
 "metadata": {
  "kernelspec": {
   "display_name": "Python 3 (ipykernel)",
   "language": "python",
   "name": "python3"
  },
  "language_info": {
   "codemirror_mode": {
    "name": "ipython",
    "version": 3
   },
   "file_extension": ".py",
   "mimetype": "text/x-python",
   "name": "python",
   "nbconvert_exporter": "python",
   "pygments_lexer": "ipython3",
   "version": "3.10.10"
  }
 },
 "nbformat": 4,
 "nbformat_minor": 5
}
